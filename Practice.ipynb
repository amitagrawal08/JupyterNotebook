{
 "cells": [
  {
   "cell_type": "code",
   "execution_count": 1,
   "metadata": {},
   "outputs": [],
   "source": [
    "mytuple=(1,3,3)"
   ]
  },
  {
   "cell_type": "code",
   "execution_count": 4,
   "metadata": {},
   "outputs": [
    {
     "data": {
      "text/plain": [
       "(1, 3, 3)"
      ]
     },
     "execution_count": 4,
     "metadata": {},
     "output_type": "execute_result"
    }
   ],
   "source": [
    "mytuple"
   ]
  },
  {
   "cell_type": "code",
   "execution_count": 3,
   "metadata": {},
   "outputs": [
    {
     "ename": "TypeError",
     "evalue": "'tuple' object does not support item assignment",
     "output_type": "error",
     "traceback": [
      "\u001b[1;31m---------------------------------------------------------------------------\u001b[0m",
      "\u001b[1;31mTypeError\u001b[0m                                 Traceback (most recent call last)",
      "\u001b[1;32m<ipython-input-3-3c595d1fc551>\u001b[0m in \u001b[0;36m<module>\u001b[1;34m\u001b[0m\n\u001b[1;32m----> 1\u001b[1;33m \u001b[0mmytuple\u001b[0m\u001b[1;33m[\u001b[0m\u001b[1;36m1\u001b[0m\u001b[1;33m]\u001b[0m\u001b[1;33m=\u001b[0m\u001b[1;36m2\u001b[0m\u001b[1;33m\u001b[0m\u001b[1;33m\u001b[0m\u001b[0m\n\u001b[0m",
      "\u001b[1;31mTypeError\u001b[0m: 'tuple' object does not support item assignment"
     ]
    }
   ],
   "source": [
    "mytuple[1]=2"
   ]
  },
  {
   "cell_type": "code",
   "execution_count": 6,
   "metadata": {},
   "outputs": [
    {
     "ename": "AttributeError",
     "evalue": "'tuple' object has no attribute 'extend'",
     "output_type": "error",
     "traceback": [
      "\u001b[1;31m---------------------------------------------------------------------------\u001b[0m",
      "\u001b[1;31mAttributeError\u001b[0m                            Traceback (most recent call last)",
      "\u001b[1;32m<ipython-input-6-542af88cf3a7>\u001b[0m in \u001b[0;36m<module>\u001b[1;34m\u001b[0m\n\u001b[1;32m----> 1\u001b[1;33m \u001b[0mmytuple\u001b[0m\u001b[1;33m.\u001b[0m\u001b[0mextend\u001b[0m\u001b[1;33m(\u001b[0m\u001b[1;36m2\u001b[0m\u001b[1;33m)\u001b[0m\u001b[1;33m\u001b[0m\u001b[1;33m\u001b[0m\u001b[0m\n\u001b[0m",
      "\u001b[1;31mAttributeError\u001b[0m: 'tuple' object has no attribute 'extend'"
     ]
    }
   ],
   "source": [
    "mytuple.extend(2)"
   ]
  },
  {
   "cell_type": "code",
   "execution_count": 7,
   "metadata": {},
   "outputs": [],
   "source": [
    "del mytuple"
   ]
  },
  {
   "cell_type": "code",
   "execution_count": 9,
   "metadata": {},
   "outputs": [
    {
     "ename": "NameError",
     "evalue": "name 'mytuple' is not defined",
     "output_type": "error",
     "traceback": [
      "\u001b[1;31m---------------------------------------------------------------------------\u001b[0m",
      "\u001b[1;31mNameError\u001b[0m                                 Traceback (most recent call last)",
      "\u001b[1;32m<ipython-input-9-c6c21778968d>\u001b[0m in \u001b[0;36m<module>\u001b[1;34m\u001b[0m\n\u001b[1;32m----> 1\u001b[1;33m \u001b[0mmytuple\u001b[0m\u001b[1;33m\u001b[0m\u001b[1;33m\u001b[0m\u001b[0m\n\u001b[0m",
      "\u001b[1;31mNameError\u001b[0m: name 'mytuple' is not defined"
     ]
    }
   ],
   "source": [
    "mytuple"
   ]
  },
  {
   "cell_type": "code",
   "execution_count": 10,
   "metadata": {},
   "outputs": [],
   "source": [
    "nums=[1,2,3,4,5]"
   ]
  },
  {
   "cell_type": "code",
   "execution_count": 11,
   "metadata": {},
   "outputs": [],
   "source": [
    "nums[1:3]=[6,7,8]"
   ]
  },
  {
   "cell_type": "code",
   "execution_count": 12,
   "metadata": {},
   "outputs": [
    {
     "data": {
      "text/plain": [
       "[1, 6, 7, 8, 4, 5]"
      ]
     },
     "execution_count": 12,
     "metadata": {},
     "output_type": "execute_result"
    }
   ],
   "source": [
    "nums"
   ]
  },
  {
   "cell_type": "code",
   "execution_count": 13,
   "metadata": {},
   "outputs": [
    {
     "data": {
      "text/plain": [
       "[6, 7]"
      ]
     },
     "execution_count": 13,
     "metadata": {},
     "output_type": "execute_result"
    }
   ],
   "source": [
    "nums[1:3]"
   ]
  },
  {
   "cell_type": "code",
   "execution_count": 14,
   "metadata": {},
   "outputs": [],
   "source": [
    "mytuple=2,3,4,5,6"
   ]
  },
  {
   "cell_type": "code",
   "execution_count": 16,
   "metadata": {},
   "outputs": [
    {
     "data": {
      "text/plain": [
       "tuple"
      ]
     },
     "execution_count": 16,
     "metadata": {},
     "output_type": "execute_result"
    }
   ],
   "source": [
    "type(mytuple)"
   ]
  },
  {
   "cell_type": "code",
   "execution_count": 18,
   "metadata": {},
   "outputs": [],
   "source": [
    "mytuple=1,2,3"
   ]
  },
  {
   "cell_type": "code",
   "execution_count": 19,
   "metadata": {},
   "outputs": [
    {
     "data": {
      "text/plain": [
       "(1, 2, 3)"
      ]
     },
     "execution_count": 19,
     "metadata": {},
     "output_type": "execute_result"
    }
   ],
   "source": [
    "mytuple"
   ]
  },
  {
   "cell_type": "code",
   "execution_count": 20,
   "metadata": {},
   "outputs": [
    {
     "data": {
      "text/plain": [
       "3"
      ]
     },
     "execution_count": 20,
     "metadata": {},
     "output_type": "execute_result"
    }
   ],
   "source": [
    "max((1,3,-1))"
   ]
  },
  {
   "cell_type": "code",
   "execution_count": 21,
   "metadata": {},
   "outputs": [
    {
     "data": {
      "text/plain": [
       "3"
      ]
     },
     "execution_count": 21,
     "metadata": {},
     "output_type": "execute_result"
    }
   ],
   "source": [
    "max([1,3,-1])"
   ]
  },
  {
   "cell_type": "code",
   "execution_count": 22,
   "metadata": {},
   "outputs": [
    {
     "data": {
      "text/plain": [
       "1"
      ]
     },
     "execution_count": 22,
     "metadata": {},
     "output_type": "execute_result"
    }
   ],
   "source": [
    "(1,3,2).index(3)"
   ]
  },
  {
   "cell_type": "code",
   "execution_count": 24,
   "metadata": {},
   "outputs": [
    {
     "data": {
      "text/plain": [
       "2"
      ]
     },
     "execution_count": 24,
     "metadata": {},
     "output_type": "execute_result"
    }
   ],
   "source": [
    "a,b=2,3\n",
    "min=a if a<b else b\n",
    "min\n"
   ]
  },
  {
   "cell_type": "code",
   "execution_count": 25,
   "metadata": {},
   "outputs": [
    {
     "name": "stdout",
     "output_type": "stream",
     "text": [
      "Hi\n"
     ]
    }
   ],
   "source": [
    "print(\"Hi\") if a<b else print(\"Bye\")"
   ]
  },
  {
   "cell_type": "code",
   "execution_count": 26,
   "metadata": {},
   "outputs": [],
   "source": [
    "myname='Ayushi'"
   ]
  },
  {
   "cell_type": "code",
   "execution_count": 28,
   "metadata": {},
   "outputs": [
    {
     "ename": "NameError",
     "evalue": "name 'Myname' is not defined",
     "output_type": "error",
     "traceback": [
      "\u001b[1;31m---------------------------------------------------------------------------\u001b[0m",
      "\u001b[1;31mNameError\u001b[0m                                 Traceback (most recent call last)",
      "\u001b[1;32m<ipython-input-28-8f73f43a53b2>\u001b[0m in \u001b[0;36m<module>\u001b[1;34m\u001b[0m\n\u001b[1;32m----> 1\u001b[1;33m \u001b[0mMyname\u001b[0m\u001b[1;33m\u001b[0m\u001b[1;33m\u001b[0m\u001b[0m\n\u001b[0m",
      "\u001b[1;31mNameError\u001b[0m: name 'Myname' is not defined"
     ]
    }
   ],
   "source": [
    "Myname"
   ]
  },
  {
   "cell_type": "code",
   "execution_count": 37,
   "metadata": {},
   "outputs": [
    {
     "data": {
      "text/plain": [
       "False"
      ]
     },
     "execution_count": 37,
     "metadata": {},
     "output_type": "execute_result"
    }
   ],
   "source": [
    "import keyword\n",
    "keyword.iskeyword('str')"
   ]
  },
  {
   "cell_type": "code",
   "execution_count": 39,
   "metadata": {},
   "outputs": [
    {
     "data": {
      "text/plain": [
       "True"
      ]
     },
     "execution_count": 39,
     "metadata": {},
     "output_type": "execute_result"
    }
   ],
   "source": [
    "'__99__'.isidentifier()"
   ]
  },
  {
   "cell_type": "code",
   "execution_count": 41,
   "metadata": {},
   "outputs": [],
   "source": [
    "def func(*args):\n",
    "    pass"
   ]
  },
  {
   "cell_type": "code",
   "execution_count": 43,
   "metadata": {},
   "outputs": [],
   "source": [
    "func(a)"
   ]
  },
  {
   "cell_type": "code",
   "execution_count": 46,
   "metadata": {},
   "outputs": [
    {
     "name": "stdout",
     "output_type": "stream",
     "text": [
      "0\n",
      "1\n",
      "2\n"
     ]
    }
   ],
   "source": [
    "for i in range(7):\n",
    "    if i==3: \n",
    "        break\n",
    "    print(i)"
   ]
  },
  {
   "cell_type": "code",
   "execution_count": 48,
   "metadata": {},
   "outputs": [
    {
     "name": "stdout",
     "output_type": "stream",
     "text": [
      "1\n",
      "2\n",
      "4\n",
      "5\n",
      "6\n"
     ]
    }
   ],
   "source": [
    "for i in range(1,7):\n",
    "    if i==3: \n",
    "        continue\n",
    "    print(i)"
   ]
  },
  {
   "cell_type": "code",
   "execution_count": 49,
   "metadata": {},
   "outputs": [
    {
     "name": "stdout",
     "output_type": "stream",
     "text": [
      "Help on function copy in module copy:\n",
      "\n",
      "copy(x)\n",
      "    Shallow copy operation on arbitrary Python objects.\n",
      "    \n",
      "    See the module's __doc__ string for more info.\n",
      "\n"
     ]
    }
   ],
   "source": [
    "import copy\n",
    "help(copy.copy)"
   ]
  },
  {
   "cell_type": "code",
   "execution_count": 50,
   "metadata": {},
   "outputs": [
    {
     "data": {
      "text/plain": [
       "['__annotations__',\n",
       " '__call__',\n",
       " '__class__',\n",
       " '__closure__',\n",
       " '__code__',\n",
       " '__defaults__',\n",
       " '__delattr__',\n",
       " '__dict__',\n",
       " '__dir__',\n",
       " '__doc__',\n",
       " '__eq__',\n",
       " '__format__',\n",
       " '__ge__',\n",
       " '__get__',\n",
       " '__getattribute__',\n",
       " '__globals__',\n",
       " '__gt__',\n",
       " '__hash__',\n",
       " '__init__',\n",
       " '__init_subclass__',\n",
       " '__kwdefaults__',\n",
       " '__le__',\n",
       " '__lt__',\n",
       " '__module__',\n",
       " '__name__',\n",
       " '__ne__',\n",
       " '__new__',\n",
       " '__qualname__',\n",
       " '__reduce__',\n",
       " '__reduce_ex__',\n",
       " '__repr__',\n",
       " '__setattr__',\n",
       " '__sizeof__',\n",
       " '__str__',\n",
       " '__subclasshook__']"
      ]
     },
     "execution_count": 50,
     "metadata": {},
     "output_type": "execute_result"
    }
   ],
   "source": [
    "dir(copy.copy)"
   ]
  },
  {
   "cell_type": "code",
   "execution_count": 54,
   "metadata": {},
   "outputs": [
    {
     "data": {
      "text/plain": [
       "False"
      ]
     },
     "execution_count": 54,
     "metadata": {},
     "output_type": "execute_result"
    }
   ],
   "source": [
    "string='amita2A1@'\n",
    "string.isalnum()"
   ]
  },
  {
   "cell_type": "code",
   "execution_count": 56,
   "metadata": {},
   "outputs": [
    {
     "data": {
      "text/plain": [
       "'Ayushi is a good girl'"
      ]
     },
     "execution_count": 56,
     "metadata": {},
     "output_type": "execute_result"
    }
   ],
   "source": [
    "'ayushi is a good girl'.capitalize()"
   ]
  },
  {
   "cell_type": "code",
   "execution_count": 57,
   "metadata": {},
   "outputs": [
    {
     "data": {
      "text/plain": [
       "False"
      ]
     },
     "execution_count": 57,
     "metadata": {},
     "output_type": "execute_result"
    }
   ],
   "source": [
    "'123.3'.isdigit()"
   ]
  },
  {
   "cell_type": "code",
   "execution_count": 58,
   "metadata": {},
   "outputs": [
    {
     "data": {
      "text/plain": [
       "False"
      ]
     },
     "execution_count": 58,
     "metadata": {},
     "output_type": "execute_result"
    }
   ],
   "source": [
    "'123.3'.isnumeric()"
   ]
  },
  {
   "cell_type": "code",
   "execution_count": 70,
   "metadata": {},
   "outputs": [
    {
     "data": {
      "text/plain": [
       "True"
      ]
     },
     "execution_count": 70,
     "metadata": {},
     "output_type": "execute_result"
    }
   ],
   "source": [
    "'00001'.isdecimal()"
   ]
  },
  {
   "cell_type": "code",
   "execution_count": 5,
   "metadata": {},
   "outputs": [
    {
     "data": {
      "text/plain": [
       "(3.5+4j)"
      ]
     },
     "execution_count": 5,
     "metadata": {},
     "output_type": "execute_result"
    }
   ],
   "source": [
    "complex(3.5,4)"
   ]
  },
  {
   "cell_type": "code",
   "execution_count": 3,
   "metadata": {},
   "outputs": [
    {
     "data": {
      "text/plain": [
       "complex"
      ]
     },
     "execution_count": 3,
     "metadata": {},
     "output_type": "execute_result"
    }
   ],
   "source": [
    "type(complex())"
   ]
  },
  {
   "cell_type": "code",
   "execution_count": 11,
   "metadata": {},
   "outputs": [
    {
     "name": "stdout",
     "output_type": "stream",
     "text": [
      "Help on int object:\n",
      "\n",
      "class int(object)\n",
      " |  int([x]) -> integer\n",
      " |  int(x, base=10) -> integer\n",
      " |  \n",
      " |  Convert a number or string to an integer, or return 0 if no arguments\n",
      " |  are given.  If x is a number, return x.__int__().  For floating point\n",
      " |  numbers, this truncates towards zero.\n",
      " |  \n",
      " |  If x is not a number or if base is given, then x must be a string,\n",
      " |  bytes, or bytearray instance representing an integer literal in the\n",
      " |  given base.  The literal can be preceded by '+' or '-' and be surrounded\n",
      " |  by whitespace.  The base defaults to 10.  Valid bases are 0 and 2-36.\n",
      " |  Base 0 means to interpret the base from the string as an integer literal.\n",
      " |  >>> int('0b100', base=0)\n",
      " |  4\n",
      " |  \n",
      " |  Methods defined here:\n",
      " |  \n",
      " |  __abs__(self, /)\n",
      " |      abs(self)\n",
      " |  \n",
      " |  __add__(self, value, /)\n",
      " |      Return self+value.\n",
      " |  \n",
      " |  __and__(self, value, /)\n",
      " |      Return self&value.\n",
      " |  \n",
      " |  __bool__(self, /)\n",
      " |      self != 0\n",
      " |  \n",
      " |  __ceil__(...)\n",
      " |      Ceiling of an Integral returns itself.\n",
      " |  \n",
      " |  __divmod__(self, value, /)\n",
      " |      Return divmod(self, value).\n",
      " |  \n",
      " |  __eq__(self, value, /)\n",
      " |      Return self==value.\n",
      " |  \n",
      " |  __float__(self, /)\n",
      " |      float(self)\n",
      " |  \n",
      " |  __floor__(...)\n",
      " |      Flooring an Integral returns itself.\n",
      " |  \n",
      " |  __floordiv__(self, value, /)\n",
      " |      Return self//value.\n",
      " |  \n",
      " |  __format__(self, format_spec, /)\n",
      " |      Default object formatter.\n",
      " |  \n",
      " |  __ge__(self, value, /)\n",
      " |      Return self>=value.\n",
      " |  \n",
      " |  __getattribute__(self, name, /)\n",
      " |      Return getattr(self, name).\n",
      " |  \n",
      " |  __getnewargs__(self, /)\n",
      " |  \n",
      " |  __gt__(self, value, /)\n",
      " |      Return self>value.\n",
      " |  \n",
      " |  __hash__(self, /)\n",
      " |      Return hash(self).\n",
      " |  \n",
      " |  __index__(self, /)\n",
      " |      Return self converted to an integer, if self is suitable for use as an index into a list.\n",
      " |  \n",
      " |  __int__(self, /)\n",
      " |      int(self)\n",
      " |  \n",
      " |  __invert__(self, /)\n",
      " |      ~self\n",
      " |  \n",
      " |  __le__(self, value, /)\n",
      " |      Return self<=value.\n",
      " |  \n",
      " |  __lshift__(self, value, /)\n",
      " |      Return self<<value.\n",
      " |  \n",
      " |  __lt__(self, value, /)\n",
      " |      Return self<value.\n",
      " |  \n",
      " |  __mod__(self, value, /)\n",
      " |      Return self%value.\n",
      " |  \n",
      " |  __mul__(self, value, /)\n",
      " |      Return self*value.\n",
      " |  \n",
      " |  __ne__(self, value, /)\n",
      " |      Return self!=value.\n",
      " |  \n",
      " |  __neg__(self, /)\n",
      " |      -self\n",
      " |  \n",
      " |  __or__(self, value, /)\n",
      " |      Return self|value.\n",
      " |  \n",
      " |  __pos__(self, /)\n",
      " |      +self\n",
      " |  \n",
      " |  __pow__(self, value, mod=None, /)\n",
      " |      Return pow(self, value, mod).\n",
      " |  \n",
      " |  __radd__(self, value, /)\n",
      " |      Return value+self.\n",
      " |  \n",
      " |  __rand__(self, value, /)\n",
      " |      Return value&self.\n",
      " |  \n",
      " |  __rdivmod__(self, value, /)\n",
      " |      Return divmod(value, self).\n",
      " |  \n",
      " |  __repr__(self, /)\n",
      " |      Return repr(self).\n",
      " |  \n",
      " |  __rfloordiv__(self, value, /)\n",
      " |      Return value//self.\n",
      " |  \n",
      " |  __rlshift__(self, value, /)\n",
      " |      Return value<<self.\n",
      " |  \n",
      " |  __rmod__(self, value, /)\n",
      " |      Return value%self.\n",
      " |  \n",
      " |  __rmul__(self, value, /)\n",
      " |      Return value*self.\n",
      " |  \n",
      " |  __ror__(self, value, /)\n",
      " |      Return value|self.\n",
      " |  \n",
      " |  __round__(...)\n",
      " |      Rounding an Integral returns itself.\n",
      " |      Rounding with an ndigits argument also returns an integer.\n",
      " |  \n",
      " |  __rpow__(self, value, mod=None, /)\n",
      " |      Return pow(value, self, mod).\n",
      " |  \n",
      " |  __rrshift__(self, value, /)\n",
      " |      Return value>>self.\n",
      " |  \n",
      " |  __rshift__(self, value, /)\n",
      " |      Return self>>value.\n",
      " |  \n",
      " |  __rsub__(self, value, /)\n",
      " |      Return value-self.\n",
      " |  \n",
      " |  __rtruediv__(self, value, /)\n",
      " |      Return value/self.\n",
      " |  \n",
      " |  __rxor__(self, value, /)\n",
      " |      Return value^self.\n",
      " |  \n",
      " |  __sizeof__(self, /)\n",
      " |      Returns size in memory, in bytes.\n",
      " |  \n",
      " |  __str__(self, /)\n",
      " |      Return str(self).\n",
      " |  \n",
      " |  __sub__(self, value, /)\n",
      " |      Return self-value.\n",
      " |  \n",
      " |  __truediv__(self, value, /)\n",
      " |      Return self/value.\n",
      " |  \n",
      " |  __trunc__(...)\n",
      " |      Truncating an Integral returns itself.\n",
      " |  \n",
      " |  __xor__(self, value, /)\n",
      " |      Return self^value.\n",
      " |  \n",
      " |  bit_length(self, /)\n",
      " |      Number of bits necessary to represent self in binary.\n",
      " |      \n",
      " |      >>> bin(37)\n",
      " |      '0b100101'\n",
      " |      >>> (37).bit_length()\n",
      " |      6\n",
      " |  \n",
      " |  conjugate(...)\n",
      " |      Returns self, the complex conjugate of any int.\n",
      " |  \n",
      " |  to_bytes(self, /, length, byteorder, *, signed=False)\n",
      " |      Return an array of bytes representing an integer.\n",
      " |      \n",
      " |      length\n",
      " |        Length of bytes object to use.  An OverflowError is raised if the\n",
      " |        integer is not representable with the given number of bytes.\n",
      " |      byteorder\n",
      " |        The byte order used to represent the integer.  If byteorder is 'big',\n",
      " |        the most significant byte is at the beginning of the byte array.  If\n",
      " |        byteorder is 'little', the most significant byte is at the end of the\n",
      " |        byte array.  To request the native byte order of the host system, use\n",
      " |        `sys.byteorder' as the byte order value.\n",
      " |      signed\n",
      " |        Determines whether two's complement is used to represent the integer.\n",
      " |        If signed is False and a negative integer is given, an OverflowError\n",
      " |        is raised.\n",
      " |  \n",
      " |  ----------------------------------------------------------------------\n",
      " |  Class methods defined here:\n",
      " |  \n",
      " |  from_bytes(bytes, byteorder, *, signed=False) from builtins.type\n",
      " |      Return the integer represented by the given array of bytes.\n",
      " |      \n",
      " |      bytes\n",
      " |        Holds the array of bytes to convert.  The argument must either\n",
      " |        support the buffer protocol or be an iterable object producing bytes.\n",
      " |        Bytes and bytearray are examples of built-in objects that support the\n",
      " |        buffer protocol.\n",
      " |      byteorder\n",
      " |        The byte order used to represent the integer.  If byteorder is 'big',\n",
      " |        the most significant byte is at the beginning of the byte array.  If\n",
      " |        byteorder is 'little', the most significant byte is at the end of the\n",
      " |        byte array.  To request the native byte order of the host system, use\n",
      " |        `sys.byteorder' as the byte order value.\n",
      " |      signed\n",
      " |        Indicates whether two's complement is used to represent the integer.\n",
      " |  \n",
      " |  ----------------------------------------------------------------------\n",
      " |  Static methods defined here:\n",
      " |  \n",
      " |  __new__(*args, **kwargs) from builtins.type\n",
      " |      Create and return a new object.  See help(type) for accurate signature.\n",
      " |  \n",
      " |  ----------------------------------------------------------------------\n",
      " |  Data descriptors defined here:\n",
      " |  \n",
      " |  denominator\n",
      " |      the denominator of a rational number in lowest terms\n",
      " |  \n",
      " |  imag\n",
      " |      the imaginary part of a complex number\n",
      " |  \n",
      " |  numerator\n",
      " |      the numerator of a rational number in lowest terms\n",
      " |  \n",
      " |  real\n",
      " |      the real part of a complex number\n",
      "\n"
     ]
    }
   ],
   "source": [
    "help(eval('2+2'))"
   ]
  },
  {
   "cell_type": "code",
   "execution_count": 14,
   "metadata": {},
   "outputs": [
    {
     "data": {
      "text/plain": [
       "45312"
      ]
     },
     "execution_count": 14,
     "metadata": {},
     "output_type": "execute_result"
    }
   ],
   "source": [
    "int('0b100', base=16)"
   ]
  },
  {
   "cell_type": "code",
   "execution_count": 19,
   "metadata": {},
   "outputs": [
    {
     "name": "stdout",
     "output_type": "stream",
     "text": [
      "20\n"
     ]
    }
   ],
   "source": [
    "eval('print(max(22,22.0)-min(2,3))')"
   ]
  },
  {
   "cell_type": "code",
   "execution_count": 23,
   "metadata": {},
   "outputs": [
    {
     "name": "stdout",
     "output_type": "stream",
     "text": [
      "20\n"
     ]
    }
   ],
   "source": [
    "print(max(22,22.0)-min(2,3))"
   ]
  },
  {
   "cell_type": "code",
   "execution_count": 24,
   "metadata": {},
   "outputs": [
    {
     "data": {
      "text/plain": [
       "[2, 0, False]"
      ]
     },
     "execution_count": 24,
     "metadata": {},
     "output_type": "execute_result"
    }
   ],
   "source": [
    "list(filter(lambda x:x%2==0,[1,2,0,False]))"
   ]
  },
  {
   "cell_type": "code",
   "execution_count": 34,
   "metadata": {},
   "outputs": [
    {
     "data": {
      "text/plain": [
       "[False, True, True, True]"
      ]
     },
     "execution_count": 34,
     "metadata": {},
     "output_type": "execute_result"
    }
   ],
   "source": [
    "list(map(lambda x:x%2==0,[1,2,0,False]))"
   ]
  },
  {
   "cell_type": "code",
   "execution_count": 40,
   "metadata": {},
   "outputs": [
    {
     "name": "stdout",
     "output_type": "stream",
     "text": [
      "a=2 but b=1\n"
     ]
    }
   ],
   "source": [
    "a=1\n",
    "b=2\n",
    "print(\"a={1} but b={0}\".format(a,b))"
   ]
  },
  {
   "cell_type": "code",
   "execution_count": 53,
   "metadata": {},
   "outputs": [
    {
     "data": {
      "text/plain": [
       "-1845515351051161948"
      ]
     },
     "execution_count": 53,
     "metadata": {},
     "output_type": "execute_result"
    }
   ],
   "source": [
    "hash('A')"
   ]
  },
  {
   "cell_type": "code",
   "execution_count": 54,
   "metadata": {},
   "outputs": [
    {
     "data": {
      "text/plain": [
       "'0xa'"
      ]
     },
     "execution_count": 54,
     "metadata": {},
     "output_type": "execute_result"
    }
   ],
   "source": [
    "hex(10)"
   ]
  },
  {
   "cell_type": "code",
   "execution_count": 56,
   "metadata": {},
   "outputs": [
    {
     "data": {
      "text/plain": [
       "{'__name__': '__main__',\n",
       " '__doc__': 'Automatically created module for IPython interactive environment',\n",
       " '__package__': None,\n",
       " '__loader__': None,\n",
       " '__spec__': None,\n",
       " '__builtin__': <module 'builtins' (built-in)>,\n",
       " '__builtins__': <module 'builtins' (built-in)>,\n",
       " '_ih': ['',\n",
       "  'complex()',\n",
       "  'help(complex())',\n",
       "  'type(complex())',\n",
       "  'type(complex(3.5,4))',\n",
       "  'complex(3.5,4)',\n",
       "  'eval()',\n",
       "  'help(eval())',\n",
       "  'help(eval())',\n",
       "  \"help(eval('1'))\",\n",
       "  \"help(eval('a'))\",\n",
       "  \"help(eval('2+2'))\",\n",
       "  \"int('0b100', base=0)\",\n",
       "  \"int('0b100', base=10)\",\n",
       "  \"int('0b100', base=16)\",\n",
       "  '16*16*16',\n",
       "  '16*16*16*16',\n",
       "  '12*12*12*12',\n",
       "  '12*12*12*12*2',\n",
       "  \"eval('print(max(22,22.0)-min(2,3))')\",\n",
       "  'max(22,22.0)',\n",
       "  'min(22,22.0)',\n",
       "  'min(22,22.0)',\n",
       "  'print(max(22,22.0)-min(2,3))',\n",
       "  'list(filter(lambda x:x%2==0,[1,2,0,False]))',\n",
       "  'lambda x:x%2==0,[1,2,0,False]',\n",
       "  'print(lambda x:x%2==0,[1,2,0,False])',\n",
       "  'filter(lambda x:x%2==0,[1,2,0,False])',\n",
       "  'list(lambda x:x%2==0,[1,2,0,False])',\n",
       "  'filter(lambda x:x%2==0,[1,2,0,False])',\n",
       "  'print(filter(lambda x:x%2==0,[1,2,0,False]))',\n",
       "  'list(filter(lambda x:x%2==0,[1,2,0,False]))',\n",
       "  'list(map(lambda x:x%2==0,[1,2,0,False]))',\n",
       "  'list(map(lambda x:x%2==0,[1,2,0,True]))',\n",
       "  'list(map(lambda x:x%2==0,[1,2,0,False]))',\n",
       "  'print(\"a={0} but b={1}\".format(a,b))',\n",
       "  'a=1\\nb=2\\nprint(\"a={0} but b={1}\".format(a,b))',\n",
       "  'a=1\\nb=2\\nprint(\"a={} but b={}\".format(a,b))',\n",
       "  'a=1\\nb=2\\nprint(\"a={} but b={}\".format(a,b))',\n",
       "  'a=1\\nb=2\\nprint(\"a={1} but b={2}\".format(a,b))',\n",
       "  'a=1\\nb=2\\nprint(\"a={1} but b={0}\".format(a,b))',\n",
       "  'hash(3.7)',\n",
       "  'hash(3)',\n",
       "  'hash(10)',\n",
       "  'hash(10.1)',\n",
       "  'hash(3.7)',\n",
       "  'help(hash(3.7))',\n",
       "  'help(hash())',\n",
       "  'help(hash(0))',\n",
       "  'hash(0)',\n",
       "  'hash(3.7)',\n",
       "  'hash(3a.7)',\n",
       "  \"hash('a')\",\n",
       "  \"hash('A')\",\n",
       "  'hex(10)',\n",
       "  'locals()',\n",
       "  'locals()'],\n",
       " '_oh': {1: 0j,\n",
       "  3: complex,\n",
       "  4: complex,\n",
       "  5: (3.5+4j),\n",
       "  12: 4,\n",
       "  14: 45312,\n",
       "  15: 4096,\n",
       "  16: 65536,\n",
       "  17: 20736,\n",
       "  18: 41472,\n",
       "  20: 22,\n",
       "  21: 22,\n",
       "  22: 22,\n",
       "  24: [2, 0, False],\n",
       "  25: (<function __main__.<lambda>(x)>, [1, 2, 0, False]),\n",
       "  27: <filter at 0x162ebeca588>,\n",
       "  29: <filter at 0x162ebecaba8>,\n",
       "  31: [2, 0, False],\n",
       "  32: [False, True, True, True],\n",
       "  33: [False, True, True, False],\n",
       "  34: [False, True, True, True],\n",
       "  41: 1614090106449586179,\n",
       "  42: 3,\n",
       "  43: 10,\n",
       "  44: 230584300921368586,\n",
       "  45: 1614090106449586179,\n",
       "  49: 0,\n",
       "  50: 1614090106449586179,\n",
       "  52: -21787701317694735,\n",
       "  53: -1845515351051161948,\n",
       "  54: '0xa',\n",
       "  55: {...}},\n",
       " '_dh': ['C:\\\\Users\\\\eamiagr\\\\Documents\\\\Study Material\\\\JupyterNotebook'],\n",
       " 'In': ['',\n",
       "  'complex()',\n",
       "  'help(complex())',\n",
       "  'type(complex())',\n",
       "  'type(complex(3.5,4))',\n",
       "  'complex(3.5,4)',\n",
       "  'eval()',\n",
       "  'help(eval())',\n",
       "  'help(eval())',\n",
       "  \"help(eval('1'))\",\n",
       "  \"help(eval('a'))\",\n",
       "  \"help(eval('2+2'))\",\n",
       "  \"int('0b100', base=0)\",\n",
       "  \"int('0b100', base=10)\",\n",
       "  \"int('0b100', base=16)\",\n",
       "  '16*16*16',\n",
       "  '16*16*16*16',\n",
       "  '12*12*12*12',\n",
       "  '12*12*12*12*2',\n",
       "  \"eval('print(max(22,22.0)-min(2,3))')\",\n",
       "  'max(22,22.0)',\n",
       "  'min(22,22.0)',\n",
       "  'min(22,22.0)',\n",
       "  'print(max(22,22.0)-min(2,3))',\n",
       "  'list(filter(lambda x:x%2==0,[1,2,0,False]))',\n",
       "  'lambda x:x%2==0,[1,2,0,False]',\n",
       "  'print(lambda x:x%2==0,[1,2,0,False])',\n",
       "  'filter(lambda x:x%2==0,[1,2,0,False])',\n",
       "  'list(lambda x:x%2==0,[1,2,0,False])',\n",
       "  'filter(lambda x:x%2==0,[1,2,0,False])',\n",
       "  'print(filter(lambda x:x%2==0,[1,2,0,False]))',\n",
       "  'list(filter(lambda x:x%2==0,[1,2,0,False]))',\n",
       "  'list(map(lambda x:x%2==0,[1,2,0,False]))',\n",
       "  'list(map(lambda x:x%2==0,[1,2,0,True]))',\n",
       "  'list(map(lambda x:x%2==0,[1,2,0,False]))',\n",
       "  'print(\"a={0} but b={1}\".format(a,b))',\n",
       "  'a=1\\nb=2\\nprint(\"a={0} but b={1}\".format(a,b))',\n",
       "  'a=1\\nb=2\\nprint(\"a={} but b={}\".format(a,b))',\n",
       "  'a=1\\nb=2\\nprint(\"a={} but b={}\".format(a,b))',\n",
       "  'a=1\\nb=2\\nprint(\"a={1} but b={2}\".format(a,b))',\n",
       "  'a=1\\nb=2\\nprint(\"a={1} but b={0}\".format(a,b))',\n",
       "  'hash(3.7)',\n",
       "  'hash(3)',\n",
       "  'hash(10)',\n",
       "  'hash(10.1)',\n",
       "  'hash(3.7)',\n",
       "  'help(hash(3.7))',\n",
       "  'help(hash())',\n",
       "  'help(hash(0))',\n",
       "  'hash(0)',\n",
       "  'hash(3.7)',\n",
       "  'hash(3a.7)',\n",
       "  \"hash('a')\",\n",
       "  \"hash('A')\",\n",
       "  'hex(10)',\n",
       "  'locals()',\n",
       "  'locals()'],\n",
       " 'Out': {1: 0j,\n",
       "  3: complex,\n",
       "  4: complex,\n",
       "  5: (3.5+4j),\n",
       "  12: 4,\n",
       "  14: 45312,\n",
       "  15: 4096,\n",
       "  16: 65536,\n",
       "  17: 20736,\n",
       "  18: 41472,\n",
       "  20: 22,\n",
       "  21: 22,\n",
       "  22: 22,\n",
       "  24: [2, 0, False],\n",
       "  25: (<function __main__.<lambda>(x)>, [1, 2, 0, False]),\n",
       "  27: <filter at 0x162ebeca588>,\n",
       "  29: <filter at 0x162ebecaba8>,\n",
       "  31: [2, 0, False],\n",
       "  32: [False, True, True, True],\n",
       "  33: [False, True, True, False],\n",
       "  34: [False, True, True, True],\n",
       "  41: 1614090106449586179,\n",
       "  42: 3,\n",
       "  43: 10,\n",
       "  44: 230584300921368586,\n",
       "  45: 1614090106449586179,\n",
       "  49: 0,\n",
       "  50: 1614090106449586179,\n",
       "  52: -21787701317694735,\n",
       "  53: -1845515351051161948,\n",
       "  54: '0xa',\n",
       "  55: {...}},\n",
       " 'get_ipython': <bound method InteractiveShell.get_ipython of <ipykernel.zmqshell.ZMQInteractiveShell object at 0x00000162E956E668>>,\n",
       " 'exit': <IPython.core.autocall.ZMQExitAutocall at 0x162ebcdaef0>,\n",
       " 'quit': <IPython.core.autocall.ZMQExitAutocall at 0x162ebcdaef0>,\n",
       " '_': {...},\n",
       " '__': '0xa',\n",
       " '___': -1845515351051161948,\n",
       " '_i': 'locals()',\n",
       " '_ii': 'hex(10)',\n",
       " '_iii': \"hash('A')\",\n",
       " '_i1': 'complex()',\n",
       " '_1': 0j,\n",
       " '_i2': 'help(complex())',\n",
       " '_i3': 'type(complex())',\n",
       " '_3': complex,\n",
       " '_i4': 'type(complex(3.5,4))',\n",
       " '_4': complex,\n",
       " '_i5': 'complex(3.5,4)',\n",
       " '_5': (3.5+4j),\n",
       " '_i6': 'eval()',\n",
       " '_i7': 'help(eval())',\n",
       " '_i8': 'help(eval())',\n",
       " '_i9': \"help(eval('1'))\",\n",
       " '_i10': \"help(eval('a'))\",\n",
       " '_i11': \"help(eval('2+2'))\",\n",
       " '_i12': \"int('0b100', base=0)\",\n",
       " '_12': 4,\n",
       " '_i13': \"int('0b100', base=10)\",\n",
       " '_i14': \"int('0b100', base=16)\",\n",
       " '_14': 45312,\n",
       " '_i15': '16*16*16',\n",
       " '_15': 4096,\n",
       " '_i16': '16*16*16*16',\n",
       " '_16': 65536,\n",
       " '_i17': '12*12*12*12',\n",
       " '_17': 20736,\n",
       " '_i18': '12*12*12*12*2',\n",
       " '_18': 41472,\n",
       " '_i19': \"eval('print(max(22,22.0)-min(2,3))')\",\n",
       " '_i20': 'max(22,22.0)',\n",
       " '_20': 22,\n",
       " '_i21': 'min(22,22.0)',\n",
       " '_21': 22,\n",
       " '_i22': 'min(22,22.0)',\n",
       " '_22': 22,\n",
       " '_i23': 'print(max(22,22.0)-min(2,3))',\n",
       " '_i24': 'list(filter(lambda x:x%2==0,[1,2,0,False]))',\n",
       " '_24': [2, 0, False],\n",
       " '_i25': 'lambda x:x%2==0,[1,2,0,False]',\n",
       " '_25': (<function __main__.<lambda>(x)>, [1, 2, 0, False]),\n",
       " '_i26': 'print(lambda x:x%2==0,[1,2,0,False])',\n",
       " '_i27': 'filter(lambda x:x%2==0,[1,2,0,False])',\n",
       " '_27': <filter at 0x162ebeca588>,\n",
       " '_i28': 'list(lambda x:x%2==0,[1,2,0,False])',\n",
       " '_i29': 'filter(lambda x:x%2==0,[1,2,0,False])',\n",
       " '_29': <filter at 0x162ebecaba8>,\n",
       " '_i30': 'print(filter(lambda x:x%2==0,[1,2,0,False]))',\n",
       " '_i31': 'list(filter(lambda x:x%2==0,[1,2,0,False]))',\n",
       " '_31': [2, 0, False],\n",
       " '_i32': 'list(map(lambda x:x%2==0,[1,2,0,False]))',\n",
       " '_32': [False, True, True, True],\n",
       " '_i33': 'list(map(lambda x:x%2==0,[1,2,0,True]))',\n",
       " '_33': [False, True, True, False],\n",
       " '_i34': 'list(map(lambda x:x%2==0,[1,2,0,False]))',\n",
       " '_34': [False, True, True, True],\n",
       " '_i35': 'print(\"a={0} but b={1}\".format(a,b))',\n",
       " '_i36': 'a=1\\nb=2\\nprint(\"a={0} but b={1}\".format(a,b))',\n",
       " 'a': 1,\n",
       " 'b': 2,\n",
       " '_i37': 'a=1\\nb=2\\nprint(\"a={} but b={}\".format(a,b))',\n",
       " '_i38': 'a=1\\nb=2\\nprint(\"a={} but b={}\".format(a,b))',\n",
       " '_i39': 'a=1\\nb=2\\nprint(\"a={1} but b={2}\".format(a,b))',\n",
       " '_i40': 'a=1\\nb=2\\nprint(\"a={1} but b={0}\".format(a,b))',\n",
       " '_i41': 'hash(3.7)',\n",
       " '_41': 1614090106449586179,\n",
       " '_i42': 'hash(3)',\n",
       " '_42': 3,\n",
       " '_i43': 'hash(10)',\n",
       " '_43': 10,\n",
       " '_i44': 'hash(10.1)',\n",
       " '_44': 230584300921368586,\n",
       " '_i45': 'hash(3.7)',\n",
       " '_45': 1614090106449586179,\n",
       " '_i46': 'help(hash(3.7))',\n",
       " '_i47': 'help(hash())',\n",
       " '_i48': 'help(hash(0))',\n",
       " '_i49': 'hash(0)',\n",
       " '_49': 0,\n",
       " '_i50': 'hash(3.7)',\n",
       " '_50': 1614090106449586179,\n",
       " '_i51': 'hash(3a.7)',\n",
       " '_i52': \"hash('a')\",\n",
       " '_52': -21787701317694735,\n",
       " '_i53': \"hash('A')\",\n",
       " '_53': -1845515351051161948,\n",
       " '_i54': 'hex(10)',\n",
       " '_54': '0xa',\n",
       " '_i55': 'locals()',\n",
       " '_55': {...},\n",
       " '_i56': 'locals()'}"
      ]
     },
     "execution_count": 56,
     "metadata": {},
     "output_type": "execute_result"
    }
   ],
   "source": [
    "locals()"
   ]
  },
  {
   "cell_type": "code",
   "execution_count": 61,
   "metadata": {},
   "outputs": [],
   "source": [
    "roots={x**2:x for x in range(5,0,-1)}"
   ]
  },
  {
   "cell_type": "code",
   "execution_count": 62,
   "metadata": {},
   "outputs": [
    {
     "data": {
      "text/plain": [
       "{25: 5, 16: 4, 9: 3, 4: 2, 1: 1}"
      ]
     },
     "execution_count": 62,
     "metadata": {},
     "output_type": "execute_result"
    }
   ],
   "source": [
    "roots"
   ]
  },
  {
   "cell_type": "code",
   "execution_count": 63,
   "metadata": {},
   "outputs": [
    {
     "data": {
      "text/plain": [
       "False"
      ]
     },
     "execution_count": 63,
     "metadata": {},
     "output_type": "execute_result"
    }
   ],
   "source": [
    "'hi'<'Hi'"
   ]
  },
  {
   "cell_type": "code",
   "execution_count": 67,
   "metadata": {},
   "outputs": [
    {
     "data": {
      "text/plain": [
       "True"
      ]
     },
     "execution_count": 67,
     "metadata": {},
     "output_type": "execute_result"
    }
   ],
   "source": [
    "{1,3,2,2}=={1,2,3}"
   ]
  },
  {
   "cell_type": "code",
   "execution_count": 70,
   "metadata": {},
   "outputs": [
    {
     "data": {
      "text/plain": [
       "6"
      ]
     },
     "execution_count": 70,
     "metadata": {},
     "output_type": "execute_result"
    }
   ],
   "source": [
    "0b110 & 0b110"
   ]
  },
  {
   "cell_type": "code",
   "execution_count": 71,
   "metadata": {},
   "outputs": [
    {
     "data": {
      "text/plain": [
       "1"
      ]
     },
     "execution_count": 71,
     "metadata": {},
     "output_type": "execute_result"
    }
   ],
   "source": [
    "3^2"
   ]
  },
  {
   "cell_type": "code",
   "execution_count": 78,
   "metadata": {},
   "outputs": [
    {
     "data": {
      "text/plain": [
       "-3"
      ]
     },
     "execution_count": 78,
     "metadata": {},
     "output_type": "execute_result"
    }
   ],
   "source": [
    "~2"
   ]
  },
  {
   "cell_type": "code",
   "execution_count": 81,
   "metadata": {},
   "outputs": [
    {
     "data": {
      "text/plain": [
       "16"
      ]
     },
     "execution_count": 81,
     "metadata": {},
     "output_type": "execute_result"
    }
   ],
   "source": [
    "4<<2"
   ]
  },
  {
   "cell_type": "code",
   "execution_count": 82,
   "metadata": {},
   "outputs": [
    {
     "data": {
      "text/plain": [
       "'Automatically created module for IPython interactive environment'"
      ]
     },
     "execution_count": 82,
     "metadata": {},
     "output_type": "execute_result"
    }
   ],
   "source": [
    "__doc__"
   ]
  },
  {
   "cell_type": "code",
   "execution_count": 83,
   "metadata": {},
   "outputs": [],
   "source": [
    "def facto(n):\n",
    "    if n==1:\n",
    "        return 1\n",
    "    return n*facto(n-1)"
   ]
  },
  {
   "cell_type": "code",
   "execution_count": 86,
   "metadata": {},
   "outputs": [
    {
     "data": {
      "text/plain": [
       "2"
      ]
     },
     "execution_count": 86,
     "metadata": {},
     "output_type": "execute_result"
    }
   ],
   "source": [
    "facto(2)"
   ]
  },
  {
   "cell_type": "code",
   "execution_count": 92,
   "metadata": {},
   "outputs": [
    {
     "data": {
      "text/plain": [
       "[('a', 1), ('b', 2), ('d', 3)]"
      ]
     },
     "execution_count": 92,
     "metadata": {},
     "output_type": "execute_result"
    }
   ],
   "source": [
    "list(zip(['a','b','c'],[1,2,3]))"
   ]
  },
  {
   "cell_type": "code",
   "execution_count": 93,
   "metadata": {},
   "outputs": [
    {
     "data": {
      "text/plain": [
       "[('a', 1), ('b', 2), ('c', 3)]"
      ]
     },
     "execution_count": 93,
     "metadata": {},
     "output_type": "execute_result"
    }
   ],
   "source": [
    "list(zip(('a','b','c'),(1,2,3)))"
   ]
  },
  {
   "cell_type": "code",
   "execution_count": 96,
   "metadata": {},
   "outputs": [
    {
     "data": {
      "text/plain": [
       "dict_values([1, 2, 3, 4])"
      ]
     },
     "execution_count": 96,
     "metadata": {},
     "output_type": "execute_result"
    }
   ],
   "source": [
    "a={'a':1,'b':2,'c':3,'d':4}\n",
    "a.values()"
   ]
  },
  {
   "cell_type": "code",
   "execution_count": 97,
   "metadata": {},
   "outputs": [
    {
     "data": {
      "text/plain": [
       "dict_keys(['a', 'b', 'c', 'd'])"
      ]
     },
     "execution_count": 97,
     "metadata": {},
     "output_type": "execute_result"
    }
   ],
   "source": [
    "a.keys()"
   ]
  },
  {
   "cell_type": "code",
   "execution_count": 103,
   "metadata": {},
   "outputs": [
    {
     "name": "stdout",
     "output_type": "stream",
     "text": [
      "I love Py"
     ]
    }
   ],
   "source": [
    "s='I love Python'\n",
    "i=0\n",
    "while s[i]!='t':\n",
    "    print(s[i], end='')\n",
    "    i+=1"
   ]
  },
  {
   "cell_type": "code",
   "execution_count": 131,
   "metadata": {},
   "outputs": [
    {
     "name": "stdout",
     "output_type": "stream",
     "text": [
      "IlovePython"
     ]
    }
   ],
   "source": [
    "for i in s:\n",
    "    if i==' ': \n",
    "        continue\n",
    "    print(i,end='')"
   ]
  },
  {
   "cell_type": "code",
   "execution_count": 127,
   "metadata": {},
   "outputs": [
    {
     "name": "stdout",
     "output_type": "stream",
     "text": [
      "My name is Amit\n",
      "My name is abc\n",
      "My name is Amit"
     ]
    }
   ],
   "source": [
    "print('My name is Amit', 'My name is abc', sep='\\n', end='\\n')\n",
    "print('My name is Amit', end='')"
   ]
  },
  {
   "cell_type": "code",
   "execution_count": 142,
   "metadata": {},
   "outputs": [
    {
     "data": {
      "text/plain": [
       "b'\\x02\\x04\\x08'"
      ]
     },
     "execution_count": 142,
     "metadata": {},
     "output_type": "execute_result"
    }
   ],
   "source": [
    "# bytes() is a built-in function in Python that returns an immutable bytes object.\n",
    "bytes([2,4,8])"
   ]
  },
  {
   "cell_type": "code",
   "execution_count": 140,
   "metadata": {},
   "outputs": [
    {
     "data": {
      "text/plain": [
       "b'\\x00\\x00'"
      ]
     },
     "execution_count": 140,
     "metadata": {},
     "output_type": "execute_result"
    }
   ],
   "source": [
    "bytes(2)"
   ]
  },
  {
   "cell_type": "code",
   "execution_count": 141,
   "metadata": {},
   "outputs": [
    {
     "data": {
      "text/plain": [
       "1524375853776"
      ]
     },
     "execution_count": 141,
     "metadata": {},
     "output_type": "execute_result"
    }
   ],
   "source": [
    "id(bytes(2))"
   ]
  },
  {
   "cell_type": "code",
   "execution_count": 136,
   "metadata": {},
   "outputs": [
    {
     "data": {
      "text/plain": [
       "b'world'"
      ]
     },
     "execution_count": 136,
     "metadata": {},
     "output_type": "execute_result"
    }
   ],
   "source": [
    "bytes('world','utf-8')"
   ]
  },
  {
   "cell_type": "code",
   "execution_count": null,
   "metadata": {},
   "outputs": [],
   "source": [
    "string='i am amit'"
   ]
  },
  {
   "cell_type": "code",
   "execution_count": null,
   "metadata": {},
   "outputs": [],
   "source": [
    "string[1]"
   ]
  },
  {
   "cell_type": "code",
   "execution_count": null,
   "metadata": {},
   "outputs": [],
   "source": []
  },
  {
   "cell_type": "code",
   "execution_count": null,
   "metadata": {},
   "outputs": [],
   "source": []
  },
  {
   "cell_type": "code",
   "execution_count": null,
   "metadata": {},
   "outputs": [],
   "source": []
  },
  {
   "cell_type": "code",
   "execution_count": null,
   "metadata": {},
   "outputs": [],
   "source": []
  },
  {
   "cell_type": "code",
   "execution_count": null,
   "metadata": {},
   "outputs": [],
   "source": []
  },
  {
   "cell_type": "code",
   "execution_count": null,
   "metadata": {},
   "outputs": [],
   "source": []
  },
  {
   "cell_type": "code",
   "execution_count": null,
   "metadata": {},
   "outputs": [],
   "source": []
  },
  {
   "cell_type": "code",
   "execution_count": null,
   "metadata": {},
   "outputs": [],
   "source": []
  },
  {
   "cell_type": "code",
   "execution_count": null,
   "metadata": {},
   "outputs": [],
   "source": []
  },
  {
   "cell_type": "code",
   "execution_count": null,
   "metadata": {},
   "outputs": [],
   "source": []
  }
 ],
 "metadata": {
  "kernelspec": {
   "display_name": "Python 3",
   "language": "python",
   "name": "python3"
  },
  "language_info": {
   "codemirror_mode": {
    "name": "ipython",
    "version": 3
   },
   "file_extension": ".py",
   "mimetype": "text/x-python",
   "name": "python",
   "nbconvert_exporter": "python",
   "pygments_lexer": "ipython3",
   "version": "3.7.3"
  }
 },
 "nbformat": 4,
 "nbformat_minor": 2
}
